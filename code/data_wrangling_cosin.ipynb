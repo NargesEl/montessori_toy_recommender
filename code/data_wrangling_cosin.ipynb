{
 "cells": [
  {
   "cell_type": "code",
   "execution_count": 1,
   "metadata": {},
   "outputs": [],
   "source": [
    "import pandas as pd\n",
    "import re\n",
    "import numpy as np"
   ]
  },
  {
   "cell_type": "code",
   "execution_count": 42,
   "metadata": {},
   "outputs": [
    {
     "name": "stderr",
     "output_type": "stream",
     "text": [
      "/Users/Narges/opt/anaconda3/lib/python3.8/site-packages/IPython/core/interactiveshell.py:3146: DtypeWarning: Columns (52) have mixed types.Specify dtype option on import or set low_memory=False.\n",
      "  has_raised = await self.run_ast_nodes(code_ast.body, cell_name,\n"
     ]
    },
    {
     "data": {
      "text/html": [
       "<div>\n",
       "<style scoped>\n",
       "    .dataframe tbody tr th:only-of-type {\n",
       "        vertical-align: middle;\n",
       "    }\n",
       "\n",
       "    .dataframe tbody tr th {\n",
       "        vertical-align: top;\n",
       "    }\n",
       "\n",
       "    .dataframe thead th {\n",
       "        text-align: right;\n",
       "    }\n",
       "</style>\n",
       "<table border=\"1\" class=\"dataframe\">\n",
       "  <thead>\n",
       "    <tr style=\"text-align: right;\">\n",
       "      <th></th>\n",
       "      <th>project_name</th>\n",
       "      <th>asin</th>\n",
       "      <th>title</th>\n",
       "      <th>link</th>\n",
       "      <th>brand_name</th>\n",
       "      <th>bestsellers_rank_main_name</th>\n",
       "      <th>bestsellers_rank_main_rank</th>\n",
       "      <th>bestsellers_rank_sub_0_name</th>\n",
       "      <th>bestsellers_rank_sub_0_rank</th>\n",
       "      <th>bestsellers_rank_sub_1_name</th>\n",
       "      <th>...</th>\n",
       "      <th>upc_number</th>\n",
       "      <th>ean_number</th>\n",
       "      <th>gtin_number</th>\n",
       "      <th>is_used</th>\n",
       "      <th>parent_asin</th>\n",
       "      <th>variants_quantity</th>\n",
       "      <th>asins</th>\n",
       "      <th>amazon_label</th>\n",
       "      <th>date_time</th>\n",
       "      <th>marketplace</th>\n",
       "    </tr>\n",
       "  </thead>\n",
       "  <tbody>\n",
       "    <tr>\n",
       "      <th>0</th>\n",
       "      <td>Toys &amp; Games - 1626782952-17</td>\n",
       "      <td>B083R9B845</td>\n",
       "      <td>JW-YZWJ Fishing Logarithmic Card Number Shape ...</td>\n",
       "      <td>https://www.amazon.de/-/en/Logarithmic-Cogniti...</td>\n",
       "      <td>JW-YZWJ</td>\n",
       "      <td>NaN</td>\n",
       "      <td>NaN</td>\n",
       "      <td>NaN</td>\n",
       "      <td>NaN</td>\n",
       "      <td>NaN</td>\n",
       "      <td>...</td>\n",
       "      <td>NaN</td>\n",
       "      <td>NaN</td>\n",
       "      <td>NaN</td>\n",
       "      <td>0</td>\n",
       "      <td>NaN</td>\n",
       "      <td>NaN</td>\n",
       "      <td>NaN</td>\n",
       "      <td>Sports</td>\n",
       "      <td>2021-07-20</td>\n",
       "      <td>DE</td>\n",
       "    </tr>\n",
       "    <tr>\n",
       "      <th>1</th>\n",
       "      <td>Toys &amp; Games - 1626782952-17</td>\n",
       "      <td>B083R99D39</td>\n",
       "      <td>JW-YZWJ 15-Hole Shape Matching Intelligence Bo...</td>\n",
       "      <td>https://www.amazon.de/-/en/Matching-Intelligen...</td>\n",
       "      <td>JW-YZWJ</td>\n",
       "      <td>NaN</td>\n",
       "      <td>NaN</td>\n",
       "      <td>NaN</td>\n",
       "      <td>NaN</td>\n",
       "      <td>NaN</td>\n",
       "      <td>...</td>\n",
       "      <td>NaN</td>\n",
       "      <td>NaN</td>\n",
       "      <td>NaN</td>\n",
       "      <td>0</td>\n",
       "      <td>NaN</td>\n",
       "      <td>NaN</td>\n",
       "      <td>NaN</td>\n",
       "      <td>Sports</td>\n",
       "      <td>2021-07-20</td>\n",
       "      <td>DE</td>\n",
       "    </tr>\n",
       "    <tr>\n",
       "      <th>2</th>\n",
       "      <td>Toys &amp; Games - 1626782952-17</td>\n",
       "      <td>B083R5N8BQ</td>\n",
       "      <td>Children's Wooden Abacus Classic Counting Tool...</td>\n",
       "      <td>https://www.amazon.de/-/en/Childrens-Counting-...</td>\n",
       "      <td>PIAOLING</td>\n",
       "      <td>NaN</td>\n",
       "      <td>NaN</td>\n",
       "      <td>NaN</td>\n",
       "      <td>NaN</td>\n",
       "      <td>NaN</td>\n",
       "      <td>...</td>\n",
       "      <td>NaN</td>\n",
       "      <td>NaN</td>\n",
       "      <td>NaN</td>\n",
       "      <td>0</td>\n",
       "      <td>B083R5Q8ZW</td>\n",
       "      <td>1.0</td>\n",
       "      <td>B083R5N8BQ</td>\n",
       "      <td>Baby</td>\n",
       "      <td>2021-07-20</td>\n",
       "      <td>DE</td>\n",
       "    </tr>\n",
       "    <tr>\n",
       "      <th>3</th>\n",
       "      <td>Toys &amp; Games - 1626782952-17</td>\n",
       "      <td>B083R5MG67</td>\n",
       "      <td>Wooden Kids Abacus Classic Counting Tool, Anim...</td>\n",
       "      <td>https://www.amazon.de/-/en/Classic-Counting-Mo...</td>\n",
       "      <td>PIAOLING</td>\n",
       "      <td>NaN</td>\n",
       "      <td>NaN</td>\n",
       "      <td>NaN</td>\n",
       "      <td>NaN</td>\n",
       "      <td>NaN</td>\n",
       "      <td>...</td>\n",
       "      <td>NaN</td>\n",
       "      <td>NaN</td>\n",
       "      <td>NaN</td>\n",
       "      <td>0</td>\n",
       "      <td>NaN</td>\n",
       "      <td>NaN</td>\n",
       "      <td>NaN</td>\n",
       "      <td>Baby</td>\n",
       "      <td>2021-07-20</td>\n",
       "      <td>DE</td>\n",
       "    </tr>\n",
       "    <tr>\n",
       "      <th>4</th>\n",
       "      <td>Toys &amp; Games - 1626782952-17</td>\n",
       "      <td>B083G6MLM9</td>\n",
       "      <td>Perfeclan 12pcs Wooden Rainbow Building Blocks...</td>\n",
       "      <td>https://www.amazon.de/-/en/Perfeclan-Building-...</td>\n",
       "      <td>Perfeclan</td>\n",
       "      <td>NaN</td>\n",
       "      <td>NaN</td>\n",
       "      <td>NaN</td>\n",
       "      <td>NaN</td>\n",
       "      <td>NaN</td>\n",
       "      <td>...</td>\n",
       "      <td>NaN</td>\n",
       "      <td>NaN</td>\n",
       "      <td>NaN</td>\n",
       "      <td>0</td>\n",
       "      <td>B083KL6LVF</td>\n",
       "      <td>3.0</td>\n",
       "      <td>B083G6MLM9|B083FTCV4D|B083G6LQ9S</td>\n",
       "      <td>Toys &amp; Games</td>\n",
       "      <td>2021-07-20</td>\n",
       "      <td>DE</td>\n",
       "    </tr>\n",
       "    <tr>\n",
       "      <th>...</th>\n",
       "      <td>...</td>\n",
       "      <td>...</td>\n",
       "      <td>...</td>\n",
       "      <td>...</td>\n",
       "      <td>...</td>\n",
       "      <td>...</td>\n",
       "      <td>...</td>\n",
       "      <td>...</td>\n",
       "      <td>...</td>\n",
       "      <td>...</td>\n",
       "      <td>...</td>\n",
       "      <td>...</td>\n",
       "      <td>...</td>\n",
       "      <td>...</td>\n",
       "      <td>...</td>\n",
       "      <td>...</td>\n",
       "      <td>...</td>\n",
       "      <td>...</td>\n",
       "      <td>...</td>\n",
       "      <td>...</td>\n",
       "      <td>...</td>\n",
       "    </tr>\n",
       "    <tr>\n",
       "      <th>9409</th>\n",
       "      <td>Toys &amp; Games - 1626782952-17</td>\n",
       "      <td>B08N9V43GP</td>\n",
       "      <td>STOBOK Wooden Magnetic Fishing Game Fine Motor...</td>\n",
       "      <td>https://www.amazon.de/-/en/Magnetic-Fishing-So...</td>\n",
       "      <td>STOBOK</td>\n",
       "      <td>NaN</td>\n",
       "      <td>NaN</td>\n",
       "      <td>NaN</td>\n",
       "      <td>NaN</td>\n",
       "      <td>NaN</td>\n",
       "      <td>...</td>\n",
       "      <td>NaN</td>\n",
       "      <td>NaN</td>\n",
       "      <td>NaN</td>\n",
       "      <td>0</td>\n",
       "      <td>NaN</td>\n",
       "      <td>NaN</td>\n",
       "      <td>NaN</td>\n",
       "      <td>Home &amp; Kitchen</td>\n",
       "      <td>2021-07-20</td>\n",
       "      <td>DE</td>\n",
       "    </tr>\n",
       "    <tr>\n",
       "      <th>9410</th>\n",
       "      <td>Toys &amp; Games - 1626782952-17</td>\n",
       "      <td>B08N6MMCMQ</td>\n",
       "      <td>Montessori Maths Scale Toy, Digital Game Scale...</td>\n",
       "      <td>https://www.amazon.de/-/en/Montessori-Counting...</td>\n",
       "      <td>Buding</td>\n",
       "      <td>NaN</td>\n",
       "      <td>NaN</td>\n",
       "      <td>NaN</td>\n",
       "      <td>NaN</td>\n",
       "      <td>NaN</td>\n",
       "      <td>...</td>\n",
       "      <td>NaN</td>\n",
       "      <td>NaN</td>\n",
       "      <td>NaN</td>\n",
       "      <td>0</td>\n",
       "      <td>NaN</td>\n",
       "      <td>NaN</td>\n",
       "      <td>NaN</td>\n",
       "      <td>Home &amp; Kitchen</td>\n",
       "      <td>2021-07-20</td>\n",
       "      <td>DE</td>\n",
       "    </tr>\n",
       "    <tr>\n",
       "      <th>9411</th>\n",
       "      <td>Toys &amp; Games - 1626782952-17</td>\n",
       "      <td>B08N67841B</td>\n",
       "      <td>Wenhe Pull Along Toy Baby Blocks Wooden Shape ...</td>\n",
       "      <td>https://www.amazon.de/-/en/Montessori-Educatio...</td>\n",
       "      <td>wenhe</td>\n",
       "      <td>NaN</td>\n",
       "      <td>NaN</td>\n",
       "      <td>NaN</td>\n",
       "      <td>NaN</td>\n",
       "      <td>NaN</td>\n",
       "      <td>...</td>\n",
       "      <td>NaN</td>\n",
       "      <td>NaN</td>\n",
       "      <td>NaN</td>\n",
       "      <td>0</td>\n",
       "      <td>NaN</td>\n",
       "      <td>NaN</td>\n",
       "      <td>NaN</td>\n",
       "      <td>Home &amp; Kitchen</td>\n",
       "      <td>2021-07-20</td>\n",
       "      <td>DE</td>\n",
       "    </tr>\n",
       "    <tr>\n",
       "      <th>9412</th>\n",
       "      <td>Toys &amp; Games - 1626782952-17</td>\n",
       "      <td>B08N64VLYK</td>\n",
       "      <td>Montessori Carrots Pull Toy Early Educational ...</td>\n",
       "      <td>https://www.amazon.de/-/en/Montessori-Educatio...</td>\n",
       "      <td>Evenlyao</td>\n",
       "      <td>NaN</td>\n",
       "      <td>NaN</td>\n",
       "      <td>NaN</td>\n",
       "      <td>NaN</td>\n",
       "      <td>NaN</td>\n",
       "      <td>...</td>\n",
       "      <td>NaN</td>\n",
       "      <td>NaN</td>\n",
       "      <td>NaN</td>\n",
       "      <td>0</td>\n",
       "      <td>NaN</td>\n",
       "      <td>NaN</td>\n",
       "      <td>NaN</td>\n",
       "      <td>Home Improvement</td>\n",
       "      <td>2021-07-20</td>\n",
       "      <td>DE</td>\n",
       "    </tr>\n",
       "    <tr>\n",
       "      <th>9413</th>\n",
       "      <td>Toys &amp; Games - 1626782952-17</td>\n",
       "      <td>B08N4KWRYY</td>\n",
       "      <td>iBaste Montessori Wooden Cube Puzzle Children'...</td>\n",
       "      <td>https://www.amazon.de/-/en/iBaste-Montessori-C...</td>\n",
       "      <td>iBaste</td>\n",
       "      <td>NaN</td>\n",
       "      <td>NaN</td>\n",
       "      <td>NaN</td>\n",
       "      <td>NaN</td>\n",
       "      <td>NaN</td>\n",
       "      <td>...</td>\n",
       "      <td>NaN</td>\n",
       "      <td>NaN</td>\n",
       "      <td>NaN</td>\n",
       "      <td>0</td>\n",
       "      <td>NaN</td>\n",
       "      <td>NaN</td>\n",
       "      <td>NaN</td>\n",
       "      <td>Home &amp; Kitchen</td>\n",
       "      <td>2021-07-20</td>\n",
       "      <td>DE</td>\n",
       "    </tr>\n",
       "  </tbody>\n",
       "</table>\n",
       "<p>9414 rows × 83 columns</p>\n",
       "</div>"
      ],
      "text/plain": [
       "                      project_name        asin  \\\n",
       "0     Toys & Games - 1626782952-17  B083R9B845   \n",
       "1     Toys & Games - 1626782952-17  B083R99D39   \n",
       "2     Toys & Games - 1626782952-17  B083R5N8BQ   \n",
       "3     Toys & Games - 1626782952-17  B083R5MG67   \n",
       "4     Toys & Games - 1626782952-17  B083G6MLM9   \n",
       "...                            ...         ...   \n",
       "9409  Toys & Games - 1626782952-17  B08N9V43GP   \n",
       "9410  Toys & Games - 1626782952-17  B08N6MMCMQ   \n",
       "9411  Toys & Games - 1626782952-17  B08N67841B   \n",
       "9412  Toys & Games - 1626782952-17  B08N64VLYK   \n",
       "9413  Toys & Games - 1626782952-17  B08N4KWRYY   \n",
       "\n",
       "                                                  title  \\\n",
       "0     JW-YZWJ Fishing Logarithmic Card Number Shape ...   \n",
       "1     JW-YZWJ 15-Hole Shape Matching Intelligence Bo...   \n",
       "2     Children's Wooden Abacus Classic Counting Tool...   \n",
       "3     Wooden Kids Abacus Classic Counting Tool, Anim...   \n",
       "4     Perfeclan 12pcs Wooden Rainbow Building Blocks...   \n",
       "...                                                 ...   \n",
       "9409  STOBOK Wooden Magnetic Fishing Game Fine Motor...   \n",
       "9410  Montessori Maths Scale Toy, Digital Game Scale...   \n",
       "9411  Wenhe Pull Along Toy Baby Blocks Wooden Shape ...   \n",
       "9412  Montessori Carrots Pull Toy Early Educational ...   \n",
       "9413  iBaste Montessori Wooden Cube Puzzle Children'...   \n",
       "\n",
       "                                                   link brand_name  \\\n",
       "0     https://www.amazon.de/-/en/Logarithmic-Cogniti...    JW-YZWJ   \n",
       "1     https://www.amazon.de/-/en/Matching-Intelligen...    JW-YZWJ   \n",
       "2     https://www.amazon.de/-/en/Childrens-Counting-...   PIAOLING   \n",
       "3     https://www.amazon.de/-/en/Classic-Counting-Mo...   PIAOLING   \n",
       "4     https://www.amazon.de/-/en/Perfeclan-Building-...  Perfeclan   \n",
       "...                                                 ...        ...   \n",
       "9409  https://www.amazon.de/-/en/Magnetic-Fishing-So...     STOBOK   \n",
       "9410  https://www.amazon.de/-/en/Montessori-Counting...     Buding   \n",
       "9411  https://www.amazon.de/-/en/Montessori-Educatio...      wenhe   \n",
       "9412  https://www.amazon.de/-/en/Montessori-Educatio...   Evenlyao   \n",
       "9413  https://www.amazon.de/-/en/iBaste-Montessori-C...     iBaste   \n",
       "\n",
       "     bestsellers_rank_main_name  bestsellers_rank_main_rank  \\\n",
       "0                           NaN                         NaN   \n",
       "1                           NaN                         NaN   \n",
       "2                           NaN                         NaN   \n",
       "3                           NaN                         NaN   \n",
       "4                           NaN                         NaN   \n",
       "...                         ...                         ...   \n",
       "9409                        NaN                         NaN   \n",
       "9410                        NaN                         NaN   \n",
       "9411                        NaN                         NaN   \n",
       "9412                        NaN                         NaN   \n",
       "9413                        NaN                         NaN   \n",
       "\n",
       "     bestsellers_rank_sub_0_name  bestsellers_rank_sub_0_rank  \\\n",
       "0                            NaN                          NaN   \n",
       "1                            NaN                          NaN   \n",
       "2                            NaN                          NaN   \n",
       "3                            NaN                          NaN   \n",
       "4                            NaN                          NaN   \n",
       "...                          ...                          ...   \n",
       "9409                         NaN                          NaN   \n",
       "9410                         NaN                          NaN   \n",
       "9411                         NaN                          NaN   \n",
       "9412                         NaN                          NaN   \n",
       "9413                         NaN                          NaN   \n",
       "\n",
       "     bestsellers_rank_sub_1_name  ...  upc_number ean_number  gtin_number  \\\n",
       "0                            NaN  ...         NaN        NaN          NaN   \n",
       "1                            NaN  ...         NaN        NaN          NaN   \n",
       "2                            NaN  ...         NaN        NaN          NaN   \n",
       "3                            NaN  ...         NaN        NaN          NaN   \n",
       "4                            NaN  ...         NaN        NaN          NaN   \n",
       "...                          ...  ...         ...        ...          ...   \n",
       "9409                         NaN  ...         NaN        NaN          NaN   \n",
       "9410                         NaN  ...         NaN        NaN          NaN   \n",
       "9411                         NaN  ...         NaN        NaN          NaN   \n",
       "9412                         NaN  ...         NaN        NaN          NaN   \n",
       "9413                         NaN  ...         NaN        NaN          NaN   \n",
       "\n",
       "      is_used  parent_asin variants_quantity  \\\n",
       "0           0          NaN               NaN   \n",
       "1           0          NaN               NaN   \n",
       "2           0   B083R5Q8ZW               1.0   \n",
       "3           0          NaN               NaN   \n",
       "4           0   B083KL6LVF               3.0   \n",
       "...       ...          ...               ...   \n",
       "9409        0          NaN               NaN   \n",
       "9410        0          NaN               NaN   \n",
       "9411        0          NaN               NaN   \n",
       "9412        0          NaN               NaN   \n",
       "9413        0          NaN               NaN   \n",
       "\n",
       "                                 asins      amazon_label   date_time  \\\n",
       "0                                  NaN            Sports  2021-07-20   \n",
       "1                                  NaN            Sports  2021-07-20   \n",
       "2                           B083R5N8BQ              Baby  2021-07-20   \n",
       "3                                  NaN              Baby  2021-07-20   \n",
       "4     B083G6MLM9|B083FTCV4D|B083G6LQ9S      Toys & Games  2021-07-20   \n",
       "...                                ...               ...         ...   \n",
       "9409                               NaN    Home & Kitchen  2021-07-20   \n",
       "9410                               NaN    Home & Kitchen  2021-07-20   \n",
       "9411                               NaN    Home & Kitchen  2021-07-20   \n",
       "9412                               NaN  Home Improvement  2021-07-20   \n",
       "9413                               NaN    Home & Kitchen  2021-07-20   \n",
       "\n",
       "      marketplace  \n",
       "0              DE  \n",
       "1              DE  \n",
       "2              DE  \n",
       "3              DE  \n",
       "4              DE  \n",
       "...           ...  \n",
       "9409           DE  \n",
       "9410           DE  \n",
       "9411           DE  \n",
       "9412           DE  \n",
       "9413           DE  \n",
       "\n",
       "[9414 rows x 83 columns]"
      ]
     },
     "execution_count": 42,
     "metadata": {},
     "output_type": "execute_result"
    }
   ],
   "source": [
    "df = pd.read_csv(\"amazon_data.csv\")\n",
    "df.columns"
   ]
  },
  {
   "cell_type": "code",
   "execution_count": 3,
   "metadata": {},
   "outputs": [],
   "source": [
    "df_cleaned = df.drop( axis=0, columns= ['bestsellers_rank_main_name', 'bestsellers_rank_main_rank', 'bestsellers_rank_sub_0_name', 'price_shipping', 'dimensions_cm_raw',\n",
    "                           'price_per_unit',  'fulfillment_type', 'fulfillment_is_sold_by_amazon', 'attributes_variation_size_name', 'fulfillment_is_fulfilled_by_amazon', 'weight_tier',\n",
    "                           'fulfillment_is_fulfilled_by_third_party','fulfillment_is_sold_by_third_party', 'price_buybox', 'price_rrp', 'weight_raw', 'weight_unit', 'weight_gramme',\n",
    "                           'bestsellers_rank_sub_0_rank', 'labels_choice_keyword', 'labels_is_amazon_bestseller', 'labels_is_amazon_choice', 'offers_quantity', 'attributes_variation_style_name',\n",
    "                           'bestsellers_rank_sub_1_name', 'bestsellers_rank_sub_1_rank', 'upc_number', 'ean_number', 'review_ratings_total', 'dimensions_type', 'dimensions_unit',\n",
    "                           'dimensions_tier', 'part_number', 'parent_asin', 'variants_quantity', 'answered_questions_count', 'project_name', 'marketplace', 'attributes_variation_color_name',\n",
    "                           'gtin_number','bestsellers_rank_sub_2_name', 'bestsellers_rank_sub_2_rank', 'estimations_sales_daily', 'dimensions_in_raw', 'attributes_variation_fit_type',\n",
    "                           'estimations_sales_monthly', 'estimations_revenue_daily', 'model_number', 'keywords', 'review_rating', 'amazon_label', 'date_time', 'attributes_variation_number_of_items',\n",
    "                           'estimations_revenue_monthly', 'estimations_revenue_per_review', 'price_symbol', 'aplus_feature', 'brand_name', 'seller_name', 'seller_id', 'is_used', 'asin',\n",
    "                           'date_listed_iso', 'manufacturer', 'asins', 'images_count', 'review_by_stars_five_star', 'review_by_stars_four_star', 'review_by_stars_three_star', 'review_by_stars_two_star', 'review_by_stars_one_star'])"
   ]
  },
  {
   "cell_type": "code",
   "execution_count": 4,
   "metadata": {},
   "outputs": [],
   "source": [
    "titles = df_cleaned[\"title\"]\n",
    "bullet1 = df_cleaned[\"features_bullet_point_0\"].astype(str)\n",
    "bullet2 = df_cleaned[\"features_bullet_point_1\"].astype(str)\n",
    "bullet3 = df_cleaned[\"features_bullet_point_2\"].astype(str)\n",
    "bullet4 = df_cleaned[\"features_bullet_point_3\"].astype(str)\n",
    "bullet5 = df_cleaned[\"features_bullet_point_4\"].astype(str)\n",
    "description = df_cleaned[\"features_description\"].astype(str)\n",
    "\n",
    "text_list = [titles, bullet1, bullet2, bullet3, bullet4, bullet5, description]"
   ]
  },
  {
   "cell_type": "markdown",
   "metadata": {},
   "source": [
    "## Extracting Age:"
   ]
  },
  {
   "cell_type": "code",
   "execution_count": 5,
   "metadata": {},
   "outputs": [],
   "source": [
    "def get_age_in_years(texts):\n",
    "    \"\"\"extracts numbers that occure with the words year(s), Year(s), Jahr(e), jahr(e) \"\"\"\n",
    "    age = r\"(................[1234567890]................)\"\n",
    "    year_b = r\"(................year................)\"\n",
    "    year_c = r\"(................Year................)\"\n",
    "    year_d = r\"(................jahr................)\"\n",
    "    year_e = r\"(................Jahr................)\"\n",
    "    agey = []\n",
    "    for n in texts:\n",
    "        a = re.findall(age,n)\n",
    "        text_y = \"\"\n",
    "        if a:\n",
    "            b = re.findall(year_b,n)\n",
    "            if b:\n",
    "                text_y = b[0]\n",
    "            else:\n",
    "                c = re.findall(year_c,n)\n",
    "                if c:\n",
    "                    text_y=c[0]\n",
    "                else:\n",
    "                    d = re.findall(year_d,n)\n",
    "                    if d:\n",
    "                        text_y = d[0]\n",
    "                    else:\n",
    "                        e = re.findall(year_e,n)\n",
    "                        if e:\n",
    "                            text_y = e[0]\n",
    "        agey.append(text_y)\n",
    "    return agey"
   ]
  },
  {
   "cell_type": "code",
   "execution_count": 6,
   "metadata": {},
   "outputs": [],
   "source": [
    "def get_age_in_months(texts):\n",
    "    \"\"\"extracts numbers that occure with the words month(s), Month(s), monat(e), Monat(e) \"\"\"\n",
    "    age = r\"..........[1234567890]............\"\n",
    "    month_b = r\"(................month................)\"\n",
    "    month_c = r\"(................Month................)\"\n",
    "    month_d = r\"(................monat................)\"\n",
    "    month_e = r\"(................Monat................)\"\n",
    "    agem = []\n",
    "    for n in texts:\n",
    "        a = re.findall(age,n)\n",
    "        text = \"\"\n",
    "        if a:\n",
    "            b = re.findall(month_b,n)\n",
    "            if b:\n",
    "                text = b[0]\n",
    "            else:\n",
    "                c = re.findall(month_c,n)\n",
    "                if c:\n",
    "                    text=c[0]\n",
    "                else:\n",
    "                    d = re.findall(month_d,n)\n",
    "                    if d:\n",
    "                        text = d[0]\n",
    "                    else:\n",
    "                        e = re.findall(month_e,n)\n",
    "                        if e:\n",
    "                            text = e[0]\n",
    "        agem.append(text)\n",
    "    return agem"
   ]
  },
  {
   "cell_type": "code",
   "execution_count": 7,
   "metadata": {},
   "outputs": [],
   "source": [
    "titles_agey = get_age_in_years(titles)\n",
    "titles_agem = get_age_in_months(titles)\n",
    "bullet1_agey = get_age_in_years(bullet1)\n",
    "bullet1_agem = get_age_in_months(bullet1)\n",
    "bullet2_agey = get_age_in_years(bullet2)\n",
    "bullet2_agem = get_age_in_months(bullet2)\n",
    "bullet3_agey = get_age_in_years(bullet3)\n",
    "bullet3_agem = get_age_in_months(bullet3)\n",
    "bullet4_agey = get_age_in_years(bullet4)\n",
    "bullet4_agem = get_age_in_months(bullet4)\n",
    "bullet5_agey = get_age_in_years(bullet5)\n",
    "bullet5_agem = get_age_in_months(bullet5)\n",
    "description_agey = get_age_in_years(description)\n",
    "description_agem = get_age_in_months(description)"
   ]
  },
  {
   "cell_type": "code",
   "execution_count": 8,
   "metadata": {},
   "outputs": [],
   "source": [
    "def get_age_in_numbers(texts):\n",
    "    \"\"\"extracts numbers without text \"\"\"\n",
    "    #number = r\"[^0-9]+([0-9]+)[^0-9]+([0-9]+).+\"\n",
    "    #number = r\"[0-9+]\"\n",
    "    #number = r\"[^0-9]+\\(\\b\\d+\\b\\)[^0-9]+\\(\\b\\d+\\b\\)[^0-9]+\\(\\b\\d+\\b\\)[^0-9]+\\(\\b\\d+\\b\\).+\"\n",
    "    number = r\"[^0-9]+(\\b\\d+\\b)[^0-9]+(\\b\\d+\\b)[^0-9]+(\\b\\d+\\b)[^0-9]+(\\b\\d+\\b).+\"\n",
    "    agen = []\n",
    "    for n in texts:\n",
    "        a = re.findall(number,n)\n",
    "        text = \"\"\n",
    "        if a:\n",
    "            text = a[0]\n",
    "        agen.append(set(text))\n",
    "    return agen"
   ]
  },
  {
   "cell_type": "code",
   "execution_count": 9,
   "metadata": {},
   "outputs": [],
   "source": [
    "titles_agey = get_age_in_numbers(titles_agey)\n",
    "titles_agem = get_age_in_numbers(titles_agem)\n",
    "bullet1_agey = get_age_in_numbers(bullet1_agey)\n",
    "bullet1_agem = get_age_in_numbers(bullet1_agem)\n",
    "bullet2_agey = get_age_in_numbers(bullet2_agey)\n",
    "bullet2_agem = get_age_in_numbers(bullet2_agem)\n",
    "bullet3_agey = get_age_in_numbers(bullet3_agey)\n",
    "bullet3_agem = get_age_in_numbers(bullet3_agem)\n",
    "bullet4_agey = get_age_in_numbers(bullet4_agey)\n",
    "bullet4_agem = get_age_in_numbers(bullet4_agem)\n",
    "bullet5_agey = get_age_in_numbers(bullet5_agey)\n",
    "bullet5_agem = get_age_in_numbers(bullet5_agem)\n",
    "description_agey = get_age_in_numbers(description_agey)\n",
    "description_agem = get_age_in_numbers(description_agem)"
   ]
  },
  {
   "cell_type": "code",
   "execution_count": 10,
   "metadata": {},
   "outputs": [],
   "source": [
    "df_cleaned[\"titles_agey\"] = np.asarray(titles_agey)\n",
    "df_cleaned[\"titles_agem\"] = np.asarray(titles_agem)\n",
    "df_cleaned[\"bullet1_agey\"] = np.asarray(bullet1_agey)\n",
    "df_cleaned[\"bullet1_agem\"] = np.asarray(bullet1_agem)\n",
    "df_cleaned[\"bullet2_agey\"] = np.asarray(bullet2_agey)\n",
    "df_cleaned[\"bullet2_agem\"] = np.asarray(bullet2_agem)\n",
    "df_cleaned[\"bullet3_agey\"] = np.asarray(bullet3_agey)\n",
    "df_cleaned[\"bullet3_agem\"] = np.asarray(bullet3_agem)\n",
    "df_cleaned[\"bullet4_agey\"] = np.asarray(bullet4_agey)\n",
    "df_cleaned[\"bullet4_agem\"] = np.asarray(bullet4_agem)\n",
    "df_cleaned[\"bullet5_agey\"] = np.asarray(bullet5_agey)\n",
    "df_cleaned[\"bullet5_agem\"] = np.asarray(bullet5_agem)\n",
    "df_cleaned[\"description_agey\"] = np.asarray(description_agey)\n",
    "df_cleaned[\"description_agem\"] = np.asarray(description_agem)"
   ]
  },
  {
   "cell_type": "code",
   "execution_count": 11,
   "metadata": {},
   "outputs": [],
   "source": [
    "df_age = df_cleaned.drop( axis=0, columns= ['features_bullet_point_0', 'features_bullet_point_1', 'features_bullet_point_2', 'features_bullet_point_3', 'features_bullet_point_4',\n",
    "                                              'features_description', 'feature_bullets_count', 'images_row'])"
   ]
  },
  {
   "cell_type": "code",
   "execution_count": 12,
   "metadata": {},
   "outputs": [],
   "source": [
    "list_years=[]\n",
    "\n",
    "for i in range(len(df_age)):\n",
    "    h = df_age.loc[i, \"titles_agey\"].union(df_age.loc[i, \"bullet1_agey\"]).union(df_age.loc[i, \"bullet2_agey\"]).union(df_age.loc[i, \"bullet3_agey\"]).union(df_age.loc[i, \"bullet4_agey\"]).union(df_age.loc[i, \"bullet5_agey\"]).union(df_age.loc[i, \"description_agey\"])\n",
    "    list_years.append(h)\n",
    "    \n",
    "df_age[\"age_years\"] = list_years"
   ]
  },
  {
   "cell_type": "code",
   "execution_count": 13,
   "metadata": {},
   "outputs": [],
   "source": [
    "list_months=[]\n",
    "\n",
    "for i in range(len(df_age)):\n",
    "    h = df_age.loc[i, \"titles_agem\"].union(df_age.loc[i, \"bullet1_agem\"]).union(df_age.loc[i, \"bullet2_agem\"]).union(df_age.loc[i, \"bullet3_agem\"]).union(df_age.loc[i, \"bullet4_agem\"]).union(df_age.loc[i, \"bullet5_agem\"]).union(df_age.loc[i, \"description_agem\"])\n",
    "    list_months.append(h)"
   ]
  },
  {
   "cell_type": "code",
   "execution_count": 14,
   "metadata": {},
   "outputs": [],
   "source": [
    "df_age[\"age_years\"] = list_years\n",
    "df_age[\"age_months\"] = list_months"
   ]
  },
  {
   "cell_type": "code",
   "execution_count": 15,
   "metadata": {},
   "outputs": [],
   "source": [
    "df_age['new_age_in_months'] = df_age.age_years.apply(lambda z: set({int(x)*12 for x in z}))"
   ]
  },
  {
   "cell_type": "code",
   "execution_count": 16,
   "metadata": {},
   "outputs": [],
   "source": [
    "df_age.age_months = df_age.age_months.apply(lambda y: set({int(x) for x in y}) )"
   ]
  },
  {
   "cell_type": "code",
   "execution_count": 17,
   "metadata": {},
   "outputs": [],
   "source": [
    "new_row = []\n",
    "for i,row in df_age.iterrows():\n",
    "    new_row.append(row[-1].union(row[5]))"
   ]
  },
  {
   "cell_type": "code",
   "execution_count": 18,
   "metadata": {},
   "outputs": [],
   "source": [
    "df_age['age'] = new_row"
   ]
  },
  {
   "cell_type": "code",
   "execution_count": 19,
   "metadata": {},
   "outputs": [],
   "source": [
    "df_age = df_age.drop( axis=0, columns= ['bullet3_agey', 'bullet3_agem', 'bullet4_agey', 'bullet4_agem', 'bullet5_agey', 'bullet5_agem', 'bullet1_agey', 'bullet1_agem', 'titles_agey',\n",
    "                                            'titles_agem','bullet2_agey', 'bullet2_agem', 'description_agey', 'description_agem'])"
   ]
  },
  {
   "cell_type": "code",
   "execution_count": 20,
   "metadata": {},
   "outputs": [],
   "source": [
    "df_age['list_of_age'] = df_age.age.apply(lambda x: [int(y) for y in list(x)])"
   ]
  },
  {
   "cell_type": "code",
   "execution_count": 21,
   "metadata": {},
   "outputs": [],
   "source": [
    "df_age['0_24'] = df_age.list_of_age.apply(lambda y : 1 if sum([1 if x >=0 and x <=24 else 0 for x in y])else 0)\n",
    "df_age[\"25-60\"]= df_age.list_of_age.apply(lambda y : 1 if sum([1 if x >=25 and x <=60 else 0 for x in y])else 0)\n",
    "df_age['72+'] = df_age.list_of_age.apply(lambda y : 1 if sum([1 if x >=72 else 0 for x in y])else 0)"
   ]
  },
  {
   "cell_type": "code",
   "execution_count": 22,
   "metadata": {},
   "outputs": [
    {
     "data": {
      "text/plain": [
       "Index(['age_months', 'new_age_in_months', 'age', 'list_of_age', '0_24',\n",
       "       '25-60', '72+'],\n",
       "      dtype='object')"
      ]
     },
     "execution_count": 22,
     "metadata": {},
     "output_type": "execute_result"
    }
   ],
   "source": [
    "df_age.columns[5:]"
   ]
  },
  {
   "cell_type": "code",
   "execution_count": 23,
   "metadata": {},
   "outputs": [],
   "source": [
    "df_age = df_age.drop(axis=0, columns=[\"list_of_age\", \"age_months\", \"new_age_in_months\", \"age\", \"age_years\"])"
   ]
  },
  {
   "cell_type": "markdown",
   "metadata": {},
   "source": [
    "## Extracting skills:"
   ]
  },
  {
   "cell_type": "markdown",
   "metadata": {},
   "source": [
    "#### Regex expressions:"
   ]
  },
  {
   "cell_type": "code",
   "execution_count": 24,
   "metadata": {},
   "outputs": [],
   "source": [
    "age = r\"..........[1234567890]............\"\n",
    "motor = r\"(motor)\"\n",
    "motor_c = r\"(Motor)\"\n",
    "language = r\"(language)\"\n",
    "language_c = r\"(Language)\"\n",
    "math = r\"(math)\"\n",
    "math_c = r\"(Math)\"\n",
    "cognative = r\"(cognative)\"\n",
    "cognative_c = r\"(Cognative)\"\n",
    "numbers = r\"(number)\"\n",
    "numbers_c = r\"(Number)\"\n",
    "stem = r\"(stem)\"\n",
    "stem_c = r\"(Stem)\"\n",
    "stem_cc = r\"(STEM)\"\n",
    "emotional = r\"(emotional)\"\n",
    "emotional_c = r\"(Emotional)\"\n",
    "social = r\"(social)\"\n",
    "social_c = r\"(Social)\""
   ]
  },
  {
   "cell_type": "code",
   "execution_count": 25,
   "metadata": {},
   "outputs": [],
   "source": [
    "def get_skills(text,reg):\n",
    "    skill = []\n",
    "    for n in text:\n",
    "        lines = \"\"\n",
    "        a = re.findall(age,n)\n",
    "        if a:\n",
    "            b = re.findall(reg, n)\n",
    "            if b:\n",
    "                lines = b[0]\n",
    "        skill.append(lines)\n",
    "    return skill"
   ]
  },
  {
   "cell_type": "code",
   "execution_count": 26,
   "metadata": {},
   "outputs": [],
   "source": [
    "for t in text_list:\n",
    "    df_age[\"motor\"] = get_skills(t, motor)\n",
    "    df_age[\"motor_c\"]= get_skills(t, motor_c)\n",
    "    df_age[\"language\"] = get_skills(t, language)\n",
    "    df_age[\"language_c\"]= get_skills(t, language_c)\n",
    "    df_age[\"math\"] = get_skills(t, math)\n",
    "    df_age[\"math_c\"]= get_skills(t, math_c)\n",
    "    df_age[\"cognative\"] = get_skills(t, cognative)\n",
    "    df_age[\"cognative_c\"]= get_skills(t, cognative_c)\n",
    "    df_age[\"numbers\"] = get_skills(t, numbers)\n",
    "    df_age[\"numbers_c\"]= get_skills(t, numbers_c)\n",
    "    df_age[\"stem\"] = get_skills(t, stem)\n",
    "    df_age[\"stem_c\"]= get_skills(t, stem_c)\n",
    "    df_age[\"stem_cc\"]= get_skills(t, stem_cc)\n",
    "    df_age[\"emotional\"] = get_skills(t, emotional)\n",
    "    df_age[\"emotional_c\"]= get_skills(t, emotional_c)\n",
    "    df_age[\"social\"] = get_skills(t, social)\n",
    "    df_age[\"social_c\"]= get_skills(t, social_c)"
   ]
  },
  {
   "cell_type": "markdown",
   "metadata": {},
   "source": [
    "#### Putting columns of same skill together"
   ]
  },
  {
   "cell_type": "code",
   "execution_count": 27,
   "metadata": {},
   "outputs": [],
   "source": [
    "df_age_skills = df_age\n",
    "df_age_skills[\"motor_skills\"] = df_age_skills[\"motor\"] + df_age_skills[\"motor_c\"]\n",
    "df_age_skills[\"language_skills\"] = df_age_skills[\"language\"] + df_age_skills[\"language_c\"]\n",
    "df_age_skills[\"math_skills\"] = df_age_skills[\"math\"] + df_age_skills[\"math_c\"]\n",
    "df_age_skills[\"cognative_skills\"] = df_age_skills[\"cognative\"] + df_age_skills[\"cognative_c\"]\n",
    "df_age_skills[\"numbers_skills\"] = df_age_skills[\"numbers\"] + df_age_skills[\"numbers_c\"]\n",
    "df_age_skills[\"stem_skills\"] = df_age_skills[\"stem\"] + df_age_skills[\"stem_c\"] + df_age_skills[\"stem_cc\"]\n",
    "df_age_skills[\"emotional_skills\"] = df_age_skills[\"emotional\"] + df_age_skills[\"emotional_c\"]\n",
    "df_age_skills[\"social_skills\"] = df_age_skills[\"social\"] + df_age_skills[\"social_c\"]\n",
    "df_merged = df_age_skills.drop(axis=0, columns=[\"motor\", \"motor_c\", \"language\", \"language_c\", \"math\", \"math_c\", \"cognative\", \"cognative_c\", \"numbers\", \"numbers_c\", \"stem\", \"stem_c\", \"stem_cc\", \"emotional\", \"emotional_c\", \"social\", \"social_c\"])"
   ]
  },
  {
   "cell_type": "markdown",
   "metadata": {},
   "source": [
    "#### Replacing empty strings with NaN"
   ]
  },
  {
   "cell_type": "code",
   "execution_count": 28,
   "metadata": {},
   "outputs": [],
   "source": [
    "df_merged = df_merged.replace(r'^\\s*$', np.NaN, regex=True)"
   ]
  },
  {
   "cell_type": "markdown",
   "metadata": {},
   "source": [
    "#### Unifying values in skills columns"
   ]
  },
  {
   "cell_type": "code",
   "execution_count": 29,
   "metadata": {},
   "outputs": [],
   "source": [
    "df_merged[\"math_skills\"].replace({\"math\": \"stem\", \"Math\": \"stem\"}, inplace=True)\n",
    "df_merged[\"numbers_skills\"].replace({\"number\": \"stem\", \"Numbers\": \"stem\"}, inplace=True)\n",
    "\n",
    "df_merged[\"stem_skills\"] = df_merged[\"math_skills\"] + df_merged[\"numbers_skills\"]\n",
    "df_merged = df_merged.drop(axis=0, columns=[\"math_skills\", \"numbers_skills\"])\n",
    "df_merged[\"stem_skills\"].replace({\"stemstem\": \"stem\", \"stemnumberNumber\": \"stem\", \"stemNumber\": \"stem\", \"mathMathstem\": \"stem\", \"mathMathnumberNumber\": \"stem\" }, inplace=True)\n",
    "\n",
    "df_merged[\"motor_skills\"].replace({\"Motor\": \"motor\", \"motorMotor\": \"motor\" }, inplace=True)\n",
    "\n",
    "df_merged[\"language_skills\"].replace({\"Language\": \"language\"}, inplace=True)\n",
    "\n",
    "df_merged = df_merged.drop(axis=0, columns=[\"cognative_skills\"])\n",
    "\n",
    "df_merged[\"emotional_skills\"].replace({\"Emotional\": \"emotional\", \"emotionalEmotional\": \"emotional\"}, inplace=True)\n",
    "\n",
    "df_merged[\"social_skills\"].replace({\"Social\": \"social\"}, inplace=True)"
   ]
  },
  {
   "cell_type": "code",
   "execution_count": 30,
   "metadata": {},
   "outputs": [],
   "source": [
    "df_final = df_merged "
   ]
  },
  {
   "cell_type": "markdown",
   "metadata": {},
   "source": [
    "### One hot encoding"
   ]
  },
  {
   "cell_type": "code",
   "execution_count": 31,
   "metadata": {},
   "outputs": [],
   "source": [
    "from sklearn.preprocessing import OneHotEncoder"
   ]
  },
  {
   "cell_type": "code",
   "execution_count": 32,
   "metadata": {},
   "outputs": [],
   "source": [
    "one_hot = OneHotEncoder(sparse=False, handle_unknown='ignore')"
   ]
  },
  {
   "cell_type": "code",
   "execution_count": 33,
   "metadata": {},
   "outputs": [],
   "source": [
    "m = df_final['motor_skills'].to_numpy().reshape(-1, 1)\n",
    "one_hot.fit(m)       \n",
    "motor = one_hot.transform(m)\n",
    "motor_df = pd.DataFrame(motor, columns= [\"motor\", \"drop\"]).drop( axis=0, columns='drop')"
   ]
  },
  {
   "cell_type": "code",
   "execution_count": 34,
   "metadata": {},
   "outputs": [],
   "source": [
    "l = df_final['language_skills'].to_numpy().reshape(-1, 1)\n",
    "one_hot.fit(l)       \n",
    "language = one_hot.transform(l)\n",
    "language_df = pd.DataFrame(language, columns= [\"language\", \"drop\"]).drop( axis=0, columns='drop')"
   ]
  },
  {
   "cell_type": "code",
   "execution_count": 35,
   "metadata": {},
   "outputs": [],
   "source": [
    "st= df_final['stem_skills'].to_numpy().reshape(-1, 1)\n",
    "one_hot.fit(st)       \n",
    "stem = one_hot.transform(st)\n",
    "stem_df = pd.DataFrame(stem, columns= [\"stem\", \"drop\"]).drop( axis=0, columns='drop')"
   ]
  },
  {
   "cell_type": "code",
   "execution_count": 36,
   "metadata": {},
   "outputs": [],
   "source": [
    "e = df_final['emotional_skills'].to_numpy().reshape(-1, 1)\n",
    "one_hot.fit(e)       \n",
    "emotional = one_hot.transform(e)\n",
    "emotional_df = pd.DataFrame(emotional, columns= [\"emotional\", \"drop\"]).drop( axis=0, columns='drop')"
   ]
  },
  {
   "cell_type": "code",
   "execution_count": 37,
   "metadata": {},
   "outputs": [],
   "source": [
    "s = df_final['social_skills'].to_numpy().reshape(-1, 1)\n",
    "one_hot.fit(s)       \n",
    "social = one_hot.transform(s)\n",
    "social_df = pd.DataFrame(social, columns= [\"social\", \"drop\"]).drop( axis=0, columns='drop')"
   ]
  },
  {
   "cell_type": "code",
   "execution_count": 38,
   "metadata": {},
   "outputs": [],
   "source": [
    "df_final = pd.concat([df_final, motor_df, language_df, stem_df, emotional_df, social_df], axis=1)"
   ]
  },
  {
   "cell_type": "code",
   "execution_count": 39,
   "metadata": {},
   "outputs": [],
   "source": [
    "df_final = df_final.drop( axis=0, columns=['motor_skills', \"language_skills\", \"emotional_skills\", \"social_skills\", \"stem_skills\"])"
   ]
  },
  {
   "cell_type": "code",
   "execution_count": 41,
   "metadata": {},
   "outputs": [],
   "source": [
    "df_final.to_csv('df_final.csv')"
   ]
  },
  {
   "cell_type": "markdown",
   "metadata": {},
   "source": [
    "### Cosine Similarity"
   ]
  },
  {
   "cell_type": "markdown",
   "metadata": {},
   "source": [
    "from sklearn.metrics.pairwise import cosine_similarity\n",
    "cs = cosine_similarity"
   ]
  },
  {
   "cell_type": "markdown",
   "metadata": {},
   "source": [
    "all_scores = []\n",
    "user_input = np.array([1, 0, 0, 1, 0, 0, 0, 0]).reshape(1, -1)\n",
    "\n",
    "for i, row in df_final.iterrows():\n",
    "    row = row[4:].to_numpy().reshape(1, -1)\n",
    "    #print(row)#just look at skills columns plus the age range columns - index row to capture just tehose columns\n",
    "    all_scores.append((cs(row,user_input)).flatten())\n",
    "\n",
    "all_scores = pd.Series(np.array(all_scores).flatten(), index=df_final.index)"
   ]
  },
  {
   "cell_type": "markdown",
   "metadata": {},
   "source": [
    "top_5 = all_scores.sort_values(ascending=False).head().index\n",
    "top_5"
   ]
  },
  {
   "cell_type": "markdown",
   "metadata": {},
   "source": [
    "#top_1 = np.argmax(all_scores)\n",
    "#top_1"
   ]
  },
  {
   "cell_type": "markdown",
   "metadata": {},
   "source": [
    "index_rec = df_final.loc[df.index == 5002]"
   ]
  },
  {
   "cell_type": "markdown",
   "metadata": {},
   "source": [
    "index_rec[\"link\"].values"
   ]
  }
 ],
 "metadata": {
  "kernelspec": {
   "display_name": "Python 3",
   "language": "python",
   "name": "python3"
  },
  "language_info": {
   "codemirror_mode": {
    "name": "ipython",
    "version": 3
   },
   "file_extension": ".py",
   "mimetype": "text/x-python",
   "name": "python",
   "nbconvert_exporter": "python",
   "pygments_lexer": "ipython3",
   "version": "3.8.5"
  }
 },
 "nbformat": 4,
 "nbformat_minor": 4
}
